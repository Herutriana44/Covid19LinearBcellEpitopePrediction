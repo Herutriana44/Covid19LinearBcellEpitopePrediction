{
 "cells": [
  {
   "cell_type": "code",
   "execution_count": 5,
   "metadata": {},
   "outputs": [],
   "source": [
    "def hoop_woods(amino_acid):\n",
    "    scale_dict = {'A': 1.0, 'R': -3.0, 'N': -3.0, 'D': -3.0, 'C': 2.0, 'Q': -3.0, 'E': -3.0, 'G': 0.0, 'H': -3.0, 'I': 1.0, 'L': 1.0, 'K': -3.0, 'M': 1.0, 'F': 1.0, 'P': -1.0, 'S': -2.0, 'T': -2.0, 'W': 1.0, 'Y': 0.0, 'V': 1.0}\n",
    "    return scale_dict.get(amino_acid, 0.0)\n",
    "\n",
    "def emini(amino_acid):\n",
    "    scale_dict = {'A': 0.92, 'R': 1.02, 'N': 0.92, 'D': 0.92, 'C': 1.19, 'Q': 0.92, 'E': 0.92, 'G': 0.74, 'H': 0.92, 'I': 1.02, 'L': 1.02, 'K': 0.92, 'M': 1.02, 'F': 1.02, 'P': 0.92, 'S': 0.92, 'T': 0.92, 'W': 1.02, 'Y': 1.02, 'V': 1.02}\n",
    "    return scale_dict.get(amino_acid, 0.0)\n",
    "\n",
    "def parker(amino_acid):\n",
    "    scale_dict = {'A': 1.53, 'R': -1.36, 'N': -0.12, 'D': -0.92, 'C': 1.47, 'Q': -0.71, 'E': -0.63, 'G': 0.74, 'H': -0.4, 'I': 1.61, 'L': 1.3, 'K': -1.62, 'M': 1.18, 'F': 1.38, 'P': 0.32, 'S': -0.25, 'T': -0.18, 'W': 1.37, 'Y': 0.96, 'V': 1.24}\n",
    "    return scale_dict.get(amino_acid, 0.0)\n",
    "\n",
    "def levitt(amino_acid):\n",
    "    scale_dict = {'A': 1.23, 'R': 0.79, 'N': 0.68, 'D': 0.89, 'C': 0.71, 'Q': 0.97, 'E': 0.97, 'G': 1.15, 'H': 0.97, 'I': 1.18, 'L': 1.21, 'K': 0.73, 'M': 1.45, 'F': 1.13, 'P': 1.22, 'S': 0.79, 'T': 0.82, 'W': 1.08, 'Y': 1.09, 'V': 1.30}\n",
    "    return scale_dict.get(amino_acid, 0.0)"
   ]
  },
  {
   "cell_type": "code",
   "execution_count": 2,
   "metadata": {},
   "outputs": [],
   "source": [
    "def generate_kmers(kata, k):\n",
    "    kmers = []\n",
    "    n = len(kata)\n",
    "\n",
    "    # Periksa apakah nilai k valid\n",
    "    if k <= 0 or k > n:\n",
    "        return kmers\n",
    "\n",
    "    # Generate k-mer\n",
    "    for i in range(n - k + 1):\n",
    "        kmers.append(kata[i:i+k])\n",
    "\n",
    "    return kmers"
   ]
  },
  {
   "cell_type": "code",
   "execution_count": 12,
   "metadata": {},
   "outputs": [],
   "source": [
    "def amino_epitop(amino,start,con,k):\n",
    "    if con == 'E':\n",
    "        epitop = ['E'*k] * len(amino)\n",
    "    elif con == '.':\n",
    "        epitop = ['.'*k] * len(amino)\n",
    "    step = [start+(i*k) for i in range(0,len(amino))]\n",
    "    return amino, epitop, step"
   ]
  },
  {
   "cell_type": "code",
   "execution_count": 15,
   "metadata": {},
   "outputs": [
    {
     "name": "stdout",
     "output_type": "stream",
     "text": [
      "Kata: CATACAT\n",
      "k: 4\n",
      "Hasil k-mer: ['CATA', 'ATAC', 'TACA', 'ACAT']\n",
      "amino_epitop : (['CATA', 'ATAC', 'TACA', 'ACAT'], ['EEEE', 'EEEE', 'EEEE', 'EEEE'], [10, 14, 18, 22])\n"
     ]
    }
   ],
   "source": [
    "kata = \"CATACAT\"\n",
    "k = 4\n",
    "hasil = generate_kmers(kata, k)\n",
    "\n",
    "print(\"Kata:\", kata)\n",
    "print(\"k:\", k)\n",
    "print(\"Hasil k-mer:\", hasil)\n",
    "print(f\"amino_epitop : {amino_epitop(hasil,10,'E',k)}\")"
   ]
  },
  {
   "cell_type": "code",
   "execution_count": 16,
   "metadata": {},
   "outputs": [],
   "source": [
    "import pandas as pd\n",
    "\n",
    "df = pd.read_csv('dataset_type_1.csv')"
   ]
  },
  {
   "cell_type": "code",
   "execution_count": 19,
   "metadata": {},
   "outputs": [
    {
     "data": {
      "text/html": [
       "<div>\n",
       "<style scoped>\n",
       "    .dataframe tbody tr th:only-of-type {\n",
       "        vertical-align: middle;\n",
       "    }\n",
       "\n",
       "    .dataframe tbody tr th {\n",
       "        vertical-align: top;\n",
       "    }\n",
       "\n",
       "    .dataframe thead th {\n",
       "        text-align: right;\n",
       "    }\n",
       "</style>\n",
       "<table border=\"1\" class=\"dataframe\">\n",
       "  <thead>\n",
       "    <tr style=\"text-align: right;\">\n",
       "      <th></th>\n",
       "      <th>Epitope - Starting Position</th>\n",
       "      <th>Epitope - Ending Position</th>\n",
       "      <th>Epitope - Name</th>\n",
       "      <th>label</th>\n",
       "      <th>actual</th>\n",
       "    </tr>\n",
       "  </thead>\n",
       "  <tbody>\n",
       "    <tr>\n",
       "      <th>0</th>\n",
       "      <td>1175.0</td>\n",
       "      <td>1190.0</td>\n",
       "      <td>SVVNIQKEIDRLNEVA</td>\n",
       "      <td>E</td>\n",
       "      <td>EEEEEEEEEEEEEEEE</td>\n",
       "    </tr>\n",
       "    <tr>\n",
       "      <th>1</th>\n",
       "      <td>61.0</td>\n",
       "      <td>76.0</td>\n",
       "      <td>CVDEAGSKSPIQYIDI</td>\n",
       "      <td>E</td>\n",
       "      <td>EEEEEEEEEEEEEEEE</td>\n",
       "    </tr>\n",
       "    <tr>\n",
       "      <th>2</th>\n",
       "      <td>631.0</td>\n",
       "      <td>652.0</td>\n",
       "      <td>PTWRVYSTGSNVFQTRAGCLIG</td>\n",
       "      <td>E</td>\n",
       "      <td>EEEEEEEEEEEEEEEEEEEEEE</td>\n",
       "    </tr>\n",
       "    <tr>\n",
       "      <th>3</th>\n",
       "      <td>1.0</td>\n",
       "      <td>16.0</td>\n",
       "      <td>MFVFLVLLPLVSSQCV</td>\n",
       "      <td>.</td>\n",
       "      <td>................</td>\n",
       "    </tr>\n",
       "    <tr>\n",
       "      <th>4</th>\n",
       "      <td>6458.0</td>\n",
       "      <td>6472.0</td>\n",
       "      <td>AFNVVNKGHFDGQQG</td>\n",
       "      <td>E</td>\n",
       "      <td>EEEEEEEEEEEEEEE</td>\n",
       "    </tr>\n",
       "    <tr>\n",
       "      <th>...</th>\n",
       "      <td>...</td>\n",
       "      <td>...</td>\n",
       "      <td>...</td>\n",
       "      <td>...</td>\n",
       "      <td>...</td>\n",
       "    </tr>\n",
       "    <tr>\n",
       "      <th>22237</th>\n",
       "      <td>6285.0</td>\n",
       "      <td>6300.0</td>\n",
       "      <td>AYKIEELFYSYATHSD</td>\n",
       "      <td>.</td>\n",
       "      <td>................</td>\n",
       "    </tr>\n",
       "    <tr>\n",
       "      <th>22238</th>\n",
       "      <td>2762.0</td>\n",
       "      <td>2776.0</td>\n",
       "      <td>GGKIVNNWLKQLIKV</td>\n",
       "      <td>.</td>\n",
       "      <td>...............</td>\n",
       "    </tr>\n",
       "    <tr>\n",
       "      <th>22239</th>\n",
       "      <td>234.0</td>\n",
       "      <td>263.0</td>\n",
       "      <td>NITRFQTLLALHRSYLTPGDSSSGWTAGAA</td>\n",
       "      <td>.</td>\n",
       "      <td>..............................</td>\n",
       "    </tr>\n",
       "    <tr>\n",
       "      <th>22240</th>\n",
       "      <td>5816.0</td>\n",
       "      <td>5830.0</td>\n",
       "      <td>QIGVVREFLTRNPAW</td>\n",
       "      <td>.</td>\n",
       "      <td>...............</td>\n",
       "    </tr>\n",
       "    <tr>\n",
       "      <th>22241</th>\n",
       "      <td>867.0</td>\n",
       "      <td>882.0</td>\n",
       "      <td>DEMIAQYTSALLAGTI</td>\n",
       "      <td>.</td>\n",
       "      <td>................</td>\n",
       "    </tr>\n",
       "  </tbody>\n",
       "</table>\n",
       "<p>22242 rows × 5 columns</p>\n",
       "</div>"
      ],
      "text/plain": [
       "       Epitope - Starting Position  Epitope - Ending Position   \n",
       "0                           1175.0                     1190.0  \\\n",
       "1                             61.0                       76.0   \n",
       "2                            631.0                      652.0   \n",
       "3                              1.0                       16.0   \n",
       "4                           6458.0                     6472.0   \n",
       "...                            ...                        ...   \n",
       "22237                       6285.0                     6300.0   \n",
       "22238                       2762.0                     2776.0   \n",
       "22239                        234.0                      263.0   \n",
       "22240                       5816.0                     5830.0   \n",
       "22241                        867.0                      882.0   \n",
       "\n",
       "                       Epitope - Name label                          actual  \n",
       "0                    SVVNIQKEIDRLNEVA     E                EEEEEEEEEEEEEEEE  \n",
       "1                    CVDEAGSKSPIQYIDI     E                EEEEEEEEEEEEEEEE  \n",
       "2              PTWRVYSTGSNVFQTRAGCLIG     E          EEEEEEEEEEEEEEEEEEEEEE  \n",
       "3                    MFVFLVLLPLVSSQCV     .                ................  \n",
       "4                     AFNVVNKGHFDGQQG     E                 EEEEEEEEEEEEEEE  \n",
       "...                               ...   ...                             ...  \n",
       "22237                AYKIEELFYSYATHSD     .                ................  \n",
       "22238                 GGKIVNNWLKQLIKV     .                 ...............  \n",
       "22239  NITRFQTLLALHRSYLTPGDSSSGWTAGAA     .  ..............................  \n",
       "22240                 QIGVVREFLTRNPAW     .                 ...............  \n",
       "22241                DEMIAQYTSALLAGTI     .                ................  \n",
       "\n",
       "[22242 rows x 5 columns]"
      ]
     },
     "execution_count": 19,
     "metadata": {},
     "output_type": "execute_result"
    }
   ],
   "source": [
    "df"
   ]
  },
  {
   "cell_type": "code",
   "execution_count": 21,
   "metadata": {},
   "outputs": [
    {
     "name": "stdout",
     "output_type": "stream",
     "text": [
      "0\n",
      "1\n",
      "2\n"
     ]
    }
   ],
   "source": [
    "for k in range(3):\n",
    "    print(k)"
   ]
  },
  {
   "cell_type": "code",
   "execution_count": 22,
   "metadata": {},
   "outputs": [],
   "source": [
    "from itertools import chain\n",
    "\n",
    "def flatten(arr):\n",
    "    return list(chain.from_iterable(arr))"
   ]
  },
  {
   "cell_type": "code",
   "execution_count": 26,
   "metadata": {},
   "outputs": [],
   "source": [
    "k = 2\n",
    "ami1 = []\n",
    "ami2 = []\n",
    "position = []\n",
    "label = []\n",
    "\n",
    "for i in range(len(df)):\n",
    "    ami = generate_kmers(df['Epitope - Name'][i],k)\n",
    "    amino, lab, pos = amino_epitop(ami,int(df['Epitope - Starting Position'][i]),df['label'][i],k)\n",
    "    for j in range(len(amino)):\n",
    "        ami1.append(amino[j][0])\n",
    "        ami2.append(amino[j][1])\n",
    "    position.append(pos)\n",
    "    label.append(lab)\n"
   ]
  },
  {
   "cell_type": "code",
   "execution_count": 31,
   "metadata": {},
   "outputs": [
    {
     "name": "stdout",
     "output_type": "stream",
     "text": [
      "323086 323086 323086 323086\n"
     ]
    }
   ],
   "source": [
    "print(len(ami1),len(ami2),len(flatten(position)),len(flatten(label)))"
   ]
  },
  {
   "cell_type": "code",
   "execution_count": 32,
   "metadata": {},
   "outputs": [],
   "source": [
    "df_res2 = pd.DataFrame()\n",
    "df_res2['amino 1'] = ami1\n",
    "df_res2['amino 2'] = ami2\n",
    "df_res2['Position'] = flatten(position)\n",
    "df_res2['label'] = flatten(label)\n",
    "df_res2['k'] = 2"
   ]
  },
  {
   "cell_type": "code",
   "execution_count": 33,
   "metadata": {},
   "outputs": [
    {
     "data": {
      "text/html": [
       "<div>\n",
       "<style scoped>\n",
       "    .dataframe tbody tr th:only-of-type {\n",
       "        vertical-align: middle;\n",
       "    }\n",
       "\n",
       "    .dataframe tbody tr th {\n",
       "        vertical-align: top;\n",
       "    }\n",
       "\n",
       "    .dataframe thead th {\n",
       "        text-align: right;\n",
       "    }\n",
       "</style>\n",
       "<table border=\"1\" class=\"dataframe\">\n",
       "  <thead>\n",
       "    <tr style=\"text-align: right;\">\n",
       "      <th></th>\n",
       "      <th>amino 1</th>\n",
       "      <th>amino 2</th>\n",
       "      <th>Position</th>\n",
       "      <th>label</th>\n",
       "      <th>k</th>\n",
       "    </tr>\n",
       "  </thead>\n",
       "  <tbody>\n",
       "    <tr>\n",
       "      <th>0</th>\n",
       "      <td>S</td>\n",
       "      <td>V</td>\n",
       "      <td>1175</td>\n",
       "      <td>EE</td>\n",
       "      <td>2</td>\n",
       "    </tr>\n",
       "    <tr>\n",
       "      <th>1</th>\n",
       "      <td>V</td>\n",
       "      <td>V</td>\n",
       "      <td>1177</td>\n",
       "      <td>EE</td>\n",
       "      <td>2</td>\n",
       "    </tr>\n",
       "    <tr>\n",
       "      <th>2</th>\n",
       "      <td>V</td>\n",
       "      <td>N</td>\n",
       "      <td>1179</td>\n",
       "      <td>EE</td>\n",
       "      <td>2</td>\n",
       "    </tr>\n",
       "    <tr>\n",
       "      <th>3</th>\n",
       "      <td>N</td>\n",
       "      <td>I</td>\n",
       "      <td>1181</td>\n",
       "      <td>EE</td>\n",
       "      <td>2</td>\n",
       "    </tr>\n",
       "    <tr>\n",
       "      <th>4</th>\n",
       "      <td>I</td>\n",
       "      <td>Q</td>\n",
       "      <td>1183</td>\n",
       "      <td>EE</td>\n",
       "      <td>2</td>\n",
       "    </tr>\n",
       "    <tr>\n",
       "      <th>...</th>\n",
       "      <td>...</td>\n",
       "      <td>...</td>\n",
       "      <td>...</td>\n",
       "      <td>...</td>\n",
       "      <td>...</td>\n",
       "    </tr>\n",
       "    <tr>\n",
       "      <th>323081</th>\n",
       "      <td>L</td>\n",
       "      <td>L</td>\n",
       "      <td>887</td>\n",
       "      <td>..</td>\n",
       "      <td>2</td>\n",
       "    </tr>\n",
       "    <tr>\n",
       "      <th>323082</th>\n",
       "      <td>L</td>\n",
       "      <td>A</td>\n",
       "      <td>889</td>\n",
       "      <td>..</td>\n",
       "      <td>2</td>\n",
       "    </tr>\n",
       "    <tr>\n",
       "      <th>323083</th>\n",
       "      <td>A</td>\n",
       "      <td>G</td>\n",
       "      <td>891</td>\n",
       "      <td>..</td>\n",
       "      <td>2</td>\n",
       "    </tr>\n",
       "    <tr>\n",
       "      <th>323084</th>\n",
       "      <td>G</td>\n",
       "      <td>T</td>\n",
       "      <td>893</td>\n",
       "      <td>..</td>\n",
       "      <td>2</td>\n",
       "    </tr>\n",
       "    <tr>\n",
       "      <th>323085</th>\n",
       "      <td>T</td>\n",
       "      <td>I</td>\n",
       "      <td>895</td>\n",
       "      <td>..</td>\n",
       "      <td>2</td>\n",
       "    </tr>\n",
       "  </tbody>\n",
       "</table>\n",
       "<p>323086 rows × 5 columns</p>\n",
       "</div>"
      ],
      "text/plain": [
       "       amino 1 amino 2  Position label  k\n",
       "0            S       V      1175    EE  2\n",
       "1            V       V      1177    EE  2\n",
       "2            V       N      1179    EE  2\n",
       "3            N       I      1181    EE  2\n",
       "4            I       Q      1183    EE  2\n",
       "...        ...     ...       ...   ... ..\n",
       "323081       L       L       887    ..  2\n",
       "323082       L       A       889    ..  2\n",
       "323083       A       G       891    ..  2\n",
       "323084       G       T       893    ..  2\n",
       "323085       T       I       895    ..  2\n",
       "\n",
       "[323086 rows x 5 columns]"
      ]
     },
     "execution_count": 33,
     "metadata": {},
     "output_type": "execute_result"
    }
   ],
   "source": [
    "df_res2"
   ]
  },
  {
   "cell_type": "code",
   "execution_count": 34,
   "metadata": {},
   "outputs": [],
   "source": [
    "df_res2['hoop_woods 1'] = [hoop_woods(df_res2['amino 1'][i]) for i in range(len(df_res2))]\n",
    "df_res2['emini 1'] = [emini(df_res2['amino 1'][i]) for i in range(len(df_res2))]\n",
    "df_res2['parker 1'] = [parker(df_res2['amino 1'][i]) for i in range(len(df_res2))]\n",
    "df_res2['levitt 1'] = [levitt(df_res2['amino 1'][i]) for i in range(len(df_res2))]\n",
    "df_res2['hoop_woods 2'] = [hoop_woods(df_res2['amino 2'][i]) for i in range(len(df_res2))]\n",
    "df_res2['emini 2'] = [emini(df_res2['amino 2'][i]) for i in range(len(df_res2))]\n",
    "df_res2['parker 2'] = [parker(df_res2['amino 2'][i]) for i in range(len(df_res2))]\n",
    "df_res2['levitt 2'] = [levitt(df_res2['amino 2'][i]) for i in range(len(df_res2))]"
   ]
  },
  {
   "cell_type": "code",
   "execution_count": 37,
   "metadata": {},
   "outputs": [],
   "source": [
    "df_res2.to_csv('dataset_type_2_char2.csv',index=False)"
   ]
  },
  {
   "cell_type": "code",
   "execution_count": 1,
   "metadata": {},
   "outputs": [],
   "source": [
    "from Bio.Seq import Seq\n",
    "\n",
    "def hoop_woods(amino_acids):\n",
    "    scale_dict = {'A': 1.0, 'R': -3.0, 'N': -3.0, 'D': -3.0, 'C': 2.0, 'Q': -3.0, 'E': -3.0, 'G': 0.0, 'H': -3.0, 'I': 1.0, 'L': 1.0, 'K': -3.0, 'M': 1.0, 'F': 1.0, 'P': -1.0, 'S': -2.0, 'T': -2.0, 'W': 1.0, 'Y': 0.0, 'V': 1.0}\n",
    "    total_scale = 0.0\n",
    "    for amino_acid in amino_acids:\n",
    "        total_scale += scale_dict.get(amino_acid, 0.0)\n",
    "    return total_scale\n",
    "\n",
    "def emini(amino_acids):\n",
    "    scale_dict = {'A': 0.92, 'R': 1.02, 'N': 0.92, 'D': 0.92, 'C': 1.19, 'Q': 0.92, 'E': 0.92, 'G': 0.74, 'H': 0.92, 'I': 1.02, 'L': 1.02, 'K': 0.92, 'M': 1.02, 'F': 1.02, 'P': 0.92, 'S': 0.92, 'T': 0.92, 'W': 1.02, 'Y': 1.02, 'V': 1.02}\n",
    "    total_scale = 0.0\n",
    "    for amino_acid in amino_acids:\n",
    "        total_scale += scale_dict.get(amino_acid, 0.0)\n",
    "    return total_scale\n",
    "\n",
    "def parker(amino_acids):\n",
    "    scale_dict = {'A': 1.53, 'R': -1.36, 'N': -0.12, 'D': -0.92, 'C': 1.47, 'Q': -0.71, 'E': -0.63, 'G': 0.74, 'H': -0.4, 'I': 1.61, 'L': 1.3, 'K': -1.62, 'M': 1.18, 'F': 1.38, 'P': 0.32, 'S': -0.25, 'T': -0.18, 'W': 1.37, 'Y': 0.96, 'V': 1.24}\n",
    "    total_scale = 0.0\n",
    "    for amino_acid in amino_acids:\n",
    "        total_scale += scale_dict.get(amino_acid, 0.0)\n",
    "    return total_scale\n",
    "\n",
    "def levitt(amino_acids):\n",
    "    scale_dict = {'A': 1.23, 'R': 0.79, 'N': 0.68, 'D': 0.89, 'C': 0.71, 'Q': 0.97, 'E': 0.97, 'G': 1.15, 'H': 0.97, 'I': 1.18, 'L': 1.21, 'K': 0.73, 'M': 1.45, 'F': 1.13, 'P': 1.22, 'S': 0.79, 'T': 0.82, 'W': 1.08, 'Y': 1.09, 'V': 1.30}\n",
    "    total_scale = 0.0\n",
    "    for amino_acid in amino_acids:\n",
    "        total_scale += scale_dict.get(amino_acid, 0.0)\n",
    "    return total_scale\n"
   ]
  },
  {
   "cell_type": "code",
   "execution_count": 2,
   "metadata": {},
   "outputs": [],
   "source": [
    "import pandas as pd\n",
    "\n",
    "df_char2 = pd.read_csv('dataset_type_2_char2.csv')"
   ]
  },
  {
   "cell_type": "code",
   "execution_count": 3,
   "metadata": {},
   "outputs": [],
   "source": [
    "prop = ['hoop_woods','emini','parker','levitt']\n",
    "for i in range(len(prop)):\n",
    "    df_char2[prop[i]] = 0.0"
   ]
  },
  {
   "cell_type": "code",
   "execution_count": 4,
   "metadata": {},
   "outputs": [],
   "source": [
    "df_char2['amino'] = [str(df_char2['amino 1'][i])+str(df_char2['amino 1'][i]) for i in range(len(df_char2))]"
   ]
  },
  {
   "cell_type": "code",
   "execution_count": 5,
   "metadata": {},
   "outputs": [],
   "source": [
    "df_char2['hoop_woods'] = [hoop_woods(df_char2['amino'][i]) for i in range(len(df_char2))]\n",
    "df_char2['emini'] = [emini(df_char2['amino'][i]) for i in range(len(df_char2))]\n",
    "df_char2['parker'] = [parker(df_char2['amino'][i]) for i in range(len(df_char2))]\n",
    "df_char2['levitt'] = [levitt(df_char2['amino'][i]) for i in range(len(df_char2))]"
   ]
  },
  {
   "cell_type": "code",
   "execution_count": 7,
   "metadata": {},
   "outputs": [],
   "source": [
    "df_char2.to_csv('dataset_type_2_char2_vers2.csv',index=False)"
   ]
  },
  {
   "cell_type": "code",
   "execution_count": null,
   "metadata": {},
   "outputs": [],
   "source": []
  }
 ],
 "metadata": {
  "kernelspec": {
   "display_name": "Python 3",
   "language": "python",
   "name": "python3"
  },
  "language_info": {
   "codemirror_mode": {
    "name": "ipython",
    "version": 3
   },
   "file_extension": ".py",
   "mimetype": "text/x-python",
   "name": "python",
   "nbconvert_exporter": "python",
   "pygments_lexer": "ipython3",
   "version": "3.9.2"
  },
  "orig_nbformat": 4
 },
 "nbformat": 4,
 "nbformat_minor": 2
}

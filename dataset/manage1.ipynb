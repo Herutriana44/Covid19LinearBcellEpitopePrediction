{
 "cells": [
  {
   "cell_type": "code",
   "execution_count": 20,
   "metadata": {},
   "outputs": [],
   "source": [
    "import pandas as pd\n",
    "\n",
    "pos = pd.read_csv('positif.csv')\n",
    "neg = pd.read_excel('negatif.xlsx')"
   ]
  },
  {
   "cell_type": "code",
   "execution_count": 21,
   "metadata": {},
   "outputs": [],
   "source": [
    "pos['label'] = 'E'\n",
    "neg['label'] = '.'\n",
    "pos['actual'] = ['E'*len(pos['Epitope - Name'][i]) for i in range(len(pos))]\n",
    "neg['actual'] = ['.'*len(neg['Epitope - Name'][i]) for i in range(len(neg))]"
   ]
  },
  {
   "cell_type": "code",
   "execution_count": 22,
   "metadata": {},
   "outputs": [],
   "source": [
    "sel_col = ['Epitope - Starting Position','Epitope - Ending Position','Epitope - Name','label','actual']"
   ]
  },
  {
   "cell_type": "code",
   "execution_count": 23,
   "metadata": {},
   "outputs": [],
   "source": [
    "pos = pos[sel_col]\n",
    "neg = neg[sel_col]\n",
    "df1_merge = pd.concat([pos,neg])\n",
    "df1_merge = df1_merge.sample(frac=1).reset_index(drop=True)"
   ]
  },
  {
   "cell_type": "code",
   "execution_count": 24,
   "metadata": {},
   "outputs": [],
   "source": [
    "def protein_preprocessing(sequence):\n",
    "    amino_acids = \"ACDEFGHIKLMNPQRSTVWY\"  # Daftar karakter asam amino yang diperbolehkan\n",
    "\n",
    "    processed_sequence = \"\"\n",
    "    for char in sequence:\n",
    "        if char.upper() in amino_acids:\n",
    "            processed_sequence += char\n",
    "\n",
    "    return processed_sequence"
   ]
  },
  {
   "cell_type": "code",
   "execution_count": 25,
   "metadata": {},
   "outputs": [],
   "source": [
    "df1_merge['Epitope - Name'] = [protein_preprocessing(df1_merge['Epitope - Name'][i]) for i in range(len(df1_merge))]"
   ]
  },
  {
   "cell_type": "code",
   "execution_count": 26,
   "metadata": {},
   "outputs": [
    {
     "data": {
      "text/plain": [
       "Epitope - Starting Position    12\n",
       "Epitope - Ending Position      12\n",
       "Epitope - Name                  0\n",
       "label                           0\n",
       "actual                          0\n",
       "dtype: int64"
      ]
     },
     "execution_count": 26,
     "metadata": {},
     "output_type": "execute_result"
    }
   ],
   "source": [
    "df1_merge.isnull().sum()"
   ]
  },
  {
   "cell_type": "code",
   "execution_count": 6,
   "metadata": {},
   "outputs": [
    {
     "data": {
      "text/html": [
       "<div>\n",
       "<style scoped>\n",
       "    .dataframe tbody tr th:only-of-type {\n",
       "        vertical-align: middle;\n",
       "    }\n",
       "\n",
       "    .dataframe tbody tr th {\n",
       "        vertical-align: top;\n",
       "    }\n",
       "\n",
       "    .dataframe thead th {\n",
       "        text-align: right;\n",
       "    }\n",
       "</style>\n",
       "<table border=\"1\" class=\"dataframe\">\n",
       "  <thead>\n",
       "    <tr style=\"text-align: right;\">\n",
       "      <th></th>\n",
       "      <th>Epitope - Starting Position</th>\n",
       "      <th>Epitope - Ending Position</th>\n",
       "      <th>Epitope - Name</th>\n",
       "      <th>label</th>\n",
       "      <th>actual</th>\n",
       "    </tr>\n",
       "  </thead>\n",
       "  <tbody>\n",
       "    <tr>\n",
       "      <th>0</th>\n",
       "      <td>4951.0</td>\n",
       "      <td>4965.0</td>\n",
       "      <td>GVSICSTMTNRQFHQ</td>\n",
       "      <td>.</td>\n",
       "      <td>...............</td>\n",
       "    </tr>\n",
       "    <tr>\n",
       "      <th>1</th>\n",
       "      <td>4891.0</td>\n",
       "      <td>4906.0</td>\n",
       "      <td>DKSAGFPFNKWGKARL</td>\n",
       "      <td>.</td>\n",
       "      <td>................</td>\n",
       "    </tr>\n",
       "    <tr>\n",
       "      <th>2</th>\n",
       "      <td>201.0</td>\n",
       "      <td>215.0</td>\n",
       "      <td>SSRGTSPARMAGNGG</td>\n",
       "      <td>.</td>\n",
       "      <td>...............</td>\n",
       "    </tr>\n",
       "    <tr>\n",
       "      <th>3</th>\n",
       "      <td>2805.0</td>\n",
       "      <td>2820.0</td>\n",
       "      <td>EIIGYKAIDGGVTRDI</td>\n",
       "      <td>E</td>\n",
       "      <td>EEEEEEEEEEEEEEEE</td>\n",
       "    </tr>\n",
       "    <tr>\n",
       "      <th>4</th>\n",
       "      <td>3661.0</td>\n",
       "      <td>3675.0</td>\n",
       "      <td>MRIMTWLDMVDTSLS</td>\n",
       "      <td>.</td>\n",
       "      <td>...............</td>\n",
       "    </tr>\n",
       "    <tr>\n",
       "      <th>...</th>\n",
       "      <td>...</td>\n",
       "      <td>...</td>\n",
       "      <td>...</td>\n",
       "      <td>...</td>\n",
       "      <td>...</td>\n",
       "    </tr>\n",
       "    <tr>\n",
       "      <th>22249</th>\n",
       "      <td>1053.0</td>\n",
       "      <td>1068.0</td>\n",
       "      <td>KPTVVVNAANVYLKHG</td>\n",
       "      <td>.</td>\n",
       "      <td>................</td>\n",
       "    </tr>\n",
       "    <tr>\n",
       "      <th>22250</th>\n",
       "      <td>2451.0</td>\n",
       "      <td>2465.0</td>\n",
       "      <td>DTFCAGSTFISDEVA</td>\n",
       "      <td>.</td>\n",
       "      <td>...............</td>\n",
       "    </tr>\n",
       "    <tr>\n",
       "      <th>22251</th>\n",
       "      <td>1660.0</td>\n",
       "      <td>1674.0</td>\n",
       "      <td>QVNGLTSIKWADNNC</td>\n",
       "      <td>E</td>\n",
       "      <td>EEEEEEEEEEEEEEE</td>\n",
       "    </tr>\n",
       "    <tr>\n",
       "      <th>22252</th>\n",
       "      <td>5831.0</td>\n",
       "      <td>5846.0</td>\n",
       "      <td>RKAVFISPYNSQNAVA</td>\n",
       "      <td>.</td>\n",
       "      <td>................</td>\n",
       "    </tr>\n",
       "    <tr>\n",
       "      <th>22253</th>\n",
       "      <td>14.0</td>\n",
       "      <td>33.0</td>\n",
       "      <td>QCVNLTTRTQLPPAYTNSFT</td>\n",
       "      <td>E</td>\n",
       "      <td>EEEEEEEEEEEEEEEEEEEE</td>\n",
       "    </tr>\n",
       "  </tbody>\n",
       "</table>\n",
       "<p>22254 rows × 5 columns</p>\n",
       "</div>"
      ],
      "text/plain": [
       "       Epitope - Starting Position  Epitope - Ending Position   \n",
       "0                           4951.0                     4965.0  \\\n",
       "1                           4891.0                     4906.0   \n",
       "2                            201.0                      215.0   \n",
       "3                           2805.0                     2820.0   \n",
       "4                           3661.0                     3675.0   \n",
       "...                            ...                        ...   \n",
       "22249                       1053.0                     1068.0   \n",
       "22250                       2451.0                     2465.0   \n",
       "22251                       1660.0                     1674.0   \n",
       "22252                       5831.0                     5846.0   \n",
       "22253                         14.0                       33.0   \n",
       "\n",
       "             Epitope - Name label                actual  \n",
       "0           GVSICSTMTNRQFHQ     .       ...............  \n",
       "1          DKSAGFPFNKWGKARL     .      ................  \n",
       "2           SSRGTSPARMAGNGG     .       ...............  \n",
       "3          EIIGYKAIDGGVTRDI     E      EEEEEEEEEEEEEEEE  \n",
       "4           MRIMTWLDMVDTSLS     .       ...............  \n",
       "...                     ...   ...                   ...  \n",
       "22249      KPTVVVNAANVYLKHG     .      ................  \n",
       "22250       DTFCAGSTFISDEVA     .       ...............  \n",
       "22251       QVNGLTSIKWADNNC     E       EEEEEEEEEEEEEEE  \n",
       "22252      RKAVFISPYNSQNAVA     .      ................  \n",
       "22253  QCVNLTTRTQLPPAYTNSFT     E  EEEEEEEEEEEEEEEEEEEE  \n",
       "\n",
       "[22254 rows x 5 columns]"
      ]
     },
     "execution_count": 6,
     "metadata": {},
     "output_type": "execute_result"
    }
   ],
   "source": [
    "df1_merge"
   ]
  },
  {
   "cell_type": "code",
   "execution_count": 79,
   "metadata": {},
   "outputs": [],
   "source": [
    "def amino_epitop(amino,start,end,con):\n",
    "    amino = list(amino)\n",
    "    if con == 'E':\n",
    "        epitop = ['E'] * len(amino)\n",
    "    elif con == '.':\n",
    "        epitop = ['.'] * len(amino)\n",
    "    step = [start+i for i in range(0,len(amino))]\n",
    "    return amino, epitop, step"
   ]
  },
  {
   "cell_type": "code",
   "execution_count": 80,
   "metadata": {},
   "outputs": [
    {
     "name": "stdout",
     "output_type": "stream",
     "text": [
      "amino ; ['L', 'A', 'T', 'N', 'N', 'L', 'V', 'V', 'M', 'A', 'Y', 'I', 'T', 'G', 'G'] \n",
      " epitop : ['E', 'E', 'E', 'E', 'E', 'E', 'E', 'E', 'E', 'E', 'E', 'E', 'E', 'E', 'E'] \n",
      " step : [590.0, 591.0, 592.0, 593.0, 594.0, 595.0, 596.0, 597.0, 598.0, 599.0, 600.0, 601.0, 602.0, 603.0, 604.0]\n",
      "amino ; 15 \n",
      " epitop : 15 \n",
      " step : 15\n"
     ]
    }
   ],
   "source": [
    "i = 5\n",
    "tes_ami, tes_epi, tes_step = amino_epitop(df1_merge['Epitope - Name'][i],df1_merge['Epitope - Starting Position'][i],df1_merge['Epitope - Ending Position'][i],df1_merge['label'][i])\n",
    "print(f\"amino ; {tes_ami} \\n epitop : {tes_epi} \\n step : {tes_step}\")\n",
    "print(f\"amino ; {len(tes_ami)} \\n epitop : {len(tes_epi)} \\n step : {len(tes_step)}\")"
   ]
  },
  {
   "cell_type": "code",
   "execution_count": 9,
   "metadata": {},
   "outputs": [],
   "source": [
    "import numpy as np\n",
    "\n",
    "def flatten(arr):\n",
    "    res = []\n",
    "    for x in range(len(arr)):\n",
    "        for y in range(len(arr[x])):\n",
    "            res.append(arr[x][y])\n",
    "    return res"
   ]
  },
  {
   "cell_type": "code",
   "execution_count": 10,
   "metadata": {},
   "outputs": [],
   "source": [
    "df2_merge = pd.DataFrame()"
   ]
  },
  {
   "cell_type": "code",
   "execution_count": 11,
   "metadata": {},
   "outputs": [],
   "source": [
    "def hoop_woods(amino_acid):\n",
    "    scale_dict = {'A': 1.0, 'R': -3.0, 'N': -3.0, 'D': -3.0, 'C': 2.0, 'Q': -3.0, 'E': -3.0, 'G': 0.0, 'H': -3.0, 'I': 1.0, 'L': 1.0, 'K': -3.0, 'M': 1.0, 'F': 1.0, 'P': -1.0, 'S': -2.0, 'T': -2.0, 'W': 1.0, 'Y': 0.0, 'V': 1.0}\n",
    "    return scale_dict.get(amino_acid, 0.0)\n",
    "\n",
    "def emini(amino_acid):\n",
    "    scale_dict = {'A': 0.92, 'R': 1.02, 'N': 0.92, 'D': 0.92, 'C': 1.19, 'Q': 0.92, 'E': 0.92, 'G': 0.74, 'H': 0.92, 'I': 1.02, 'L': 1.02, 'K': 0.92, 'M': 1.02, 'F': 1.02, 'P': 0.92, 'S': 0.92, 'T': 0.92, 'W': 1.02, 'Y': 1.02, 'V': 1.02}\n",
    "    return scale_dict.get(amino_acid, 0.0)\n",
    "\n",
    "def parker(amino_acid):\n",
    "    scale_dict = {'A': 1.53, 'R': -1.36, 'N': -0.12, 'D': -0.92, 'C': 1.47, 'Q': -0.71, 'E': -0.63, 'G': 0.74, 'H': -0.4, 'I': 1.61, 'L': 1.3, 'K': -1.62, 'M': 1.18, 'F': 1.38, 'P': 0.32, 'S': -0.25, 'T': -0.18, 'W': 1.37, 'Y': 0.96, 'V': 1.24}\n",
    "    return scale_dict.get(amino_acid, 0.0)\n",
    "\n",
    "def levitt(amino_acid):\n",
    "    scale_dict = {'A': 1.23, 'R': 0.79, 'N': 0.68, 'D': 0.89, 'C': 0.71, 'Q': 0.97, 'E': 0.97, 'G': 1.15, 'H': 0.97, 'I': 1.18, 'L': 1.21, 'K': 0.73, 'M': 1.45, 'F': 1.13, 'P': 1.22, 'S': 0.79, 'T': 0.82, 'W': 1.08, 'Y': 1.09, 'V': 1.30}\n",
    "    return scale_dict.get(amino_acid, 0.0)"
   ]
  },
  {
   "cell_type": "code",
   "execution_count": 12,
   "metadata": {},
   "outputs": [
    {
     "name": "stdout",
     "output_type": "stream",
     "text": [
      "<class 'pandas.core.frame.DataFrame'>\n",
      "RangeIndex: 22254 entries, 0 to 22253\n",
      "Data columns (total 5 columns):\n",
      " #   Column                       Non-Null Count  Dtype  \n",
      "---  ------                       --------------  -----  \n",
      " 0   Epitope - Starting Position  22242 non-null  float64\n",
      " 1   Epitope - Ending Position    22242 non-null  float64\n",
      " 2   Epitope - Name               22254 non-null  object \n",
      " 3   label                        22254 non-null  object \n",
      " 4   actual                       22254 non-null  object \n",
      "dtypes: float64(2), object(3)\n",
      "memory usage: 869.4+ KB\n"
     ]
    }
   ],
   "source": [
    "df1_merge.info()"
   ]
  },
  {
   "cell_type": "code",
   "execution_count": 27,
   "metadata": {},
   "outputs": [],
   "source": [
    "df1_merge = df1_merge.dropna(subset='Epitope - Starting Position')\n",
    "df1_merge = df1_merge.dropna(subset='Epitope - Ending Position')\n",
    "df1_merge = df1_merge.sample(frac=1).reset_index(drop=True)"
   ]
  },
  {
   "cell_type": "code",
   "execution_count": 28,
   "metadata": {},
   "outputs": [
    {
     "data": {
      "text/plain": [
       "Epitope - Starting Position    0\n",
       "Epitope - Ending Position      0\n",
       "Epitope - Name                 0\n",
       "label                          0\n",
       "actual                         0\n",
       "dtype: int64"
      ]
     },
     "execution_count": 28,
     "metadata": {},
     "output_type": "execute_result"
    }
   ],
   "source": [
    "df1_merge.isnull().sum()"
   ]
  },
  {
   "cell_type": "code",
   "execution_count": 29,
   "metadata": {},
   "outputs": [],
   "source": [
    "df1_merge.to_csv('dataset_type_1.csv',index=False)"
   ]
  },
  {
   "cell_type": "code",
   "execution_count": 98,
   "metadata": {},
   "outputs": [
    {
     "name": "stdout",
     "output_type": "stream",
     "text": [
      "22242 22242 22242\n"
     ]
    }
   ],
   "source": [
    "from itertools import chain\n",
    "\n",
    "df1 = pd.read_csv('dataset_type_1.csv')\n",
    "\n",
    "AllAmino = []\n",
    "AllEpitop = []\n",
    "AllPos = []\n",
    "df2_merge = pd.DataFrame()\n",
    "for i in range(len(df1)):\n",
    "    ami, epi, pos = amino_epitop(df1_merge['Epitope - Name'][i],df1_merge['Epitope - Starting Position'][i],df1_merge['Epitope - Ending Position'][i],df1_merge['label'][i])\n",
    "    AllAmino.append(ami)\n",
    "    AllEpitop.append(epi) \n",
    "    AllPos.append(pos)\n",
    "\n",
    "print(len(AllAmino),len(AllEpitop),len(AllPos))\n"
   ]
  },
  {
   "cell_type": "code",
   "execution_count": 60,
   "metadata": {},
   "outputs": [],
   "source": [
    "total = 0\n",
    "for x in range(len(AllPos)):\n",
    "    total += len(AllPos[x])\n",
    "    for y in range(len(AllPos[x])):\n",
    "        if not isinstance(AllPos[x][y], int):\n",
    "            print(type(AllPos[x][y]))"
   ]
  },
  {
   "cell_type": "code",
   "execution_count": 61,
   "metadata": {},
   "outputs": [
    {
     "data": {
      "text/plain": [
       "345305"
      ]
     },
     "execution_count": 61,
     "metadata": {},
     "output_type": "execute_result"
    }
   ],
   "source": [
    "total"
   ]
  },
  {
   "cell_type": "code",
   "execution_count": 52,
   "metadata": {},
   "outputs": [
    {
     "data": {
      "text/plain": [
       "22242"
      ]
     },
     "execution_count": 52,
     "metadata": {},
     "output_type": "execute_result"
    }
   ],
   "source": [
    "len(AllPos)"
   ]
  },
  {
   "cell_type": "code",
   "execution_count": 99,
   "metadata": {},
   "outputs": [
    {
     "name": "stdout",
     "output_type": "stream",
     "text": [
      "345328 345328 345328\n"
     ]
    }
   ],
   "source": [
    "Amino = list(chain.from_iterable(AllAmino))\n",
    "Epitop = list(chain.from_iterable(AllEpitop))\n",
    "Pos = list(chain.from_iterable(AllPos))\n",
    "#AllAmino = flatten(AllAmino)\n",
    "#AllEpitop = flatten(AllEpitop)\n",
    "#AllPos = flatten(AllPos)\n",
    "print(len(Amino),len(Epitop),len(Pos))"
   ]
  },
  {
   "cell_type": "code",
   "execution_count": 88,
   "metadata": {},
   "outputs": [
    {
     "data": {
      "text/plain": [
       "False"
      ]
     },
     "execution_count": 88,
     "metadata": {},
     "output_type": "execute_result"
    }
   ],
   "source": [
    "1 != 1 != 1"
   ]
  },
  {
   "cell_type": "code",
   "execution_count": 100,
   "metadata": {},
   "outputs": [],
   "source": [
    "df2_merge['amino'] = Amino\n",
    "df2_merge['label'] = Epitop\n",
    "df2_merge['Position'] = Pos"
   ]
  },
  {
   "cell_type": "code",
   "execution_count": 96,
   "metadata": {},
   "outputs": [
    {
     "data": {
      "text/html": [
       "<div>\n",
       "<style scoped>\n",
       "    .dataframe tbody tr th:only-of-type {\n",
       "        vertical-align: middle;\n",
       "    }\n",
       "\n",
       "    .dataframe tbody tr th {\n",
       "        vertical-align: top;\n",
       "    }\n",
       "\n",
       "    .dataframe thead th {\n",
       "        text-align: right;\n",
       "    }\n",
       "</style>\n",
       "<table border=\"1\" class=\"dataframe\">\n",
       "  <thead>\n",
       "    <tr style=\"text-align: right;\">\n",
       "      <th></th>\n",
       "      <th>label</th>\n",
       "      <th>amino</th>\n",
       "      <th>position</th>\n",
       "      <th>hoop_woods</th>\n",
       "      <th>emini</th>\n",
       "      <th>parker</th>\n",
       "      <th>levitt</th>\n",
       "      <th>Position</th>\n",
       "    </tr>\n",
       "  </thead>\n",
       "  <tbody>\n",
       "    <tr>\n",
       "      <th>0</th>\n",
       "      <td>S</td>\n",
       "      <td>E</td>\n",
       "      <td>1175.0</td>\n",
       "      <td>-3.0</td>\n",
       "      <td>0.92</td>\n",
       "      <td>-0.63</td>\n",
       "      <td>0.97</td>\n",
       "      <td>1175.0</td>\n",
       "    </tr>\n",
       "    <tr>\n",
       "      <th>1</th>\n",
       "      <td>V</td>\n",
       "      <td>E</td>\n",
       "      <td>1176.0</td>\n",
       "      <td>-3.0</td>\n",
       "      <td>0.92</td>\n",
       "      <td>-0.63</td>\n",
       "      <td>0.97</td>\n",
       "      <td>1176.0</td>\n",
       "    </tr>\n",
       "    <tr>\n",
       "      <th>2</th>\n",
       "      <td>V</td>\n",
       "      <td>E</td>\n",
       "      <td>1177.0</td>\n",
       "      <td>-3.0</td>\n",
       "      <td>0.92</td>\n",
       "      <td>-0.63</td>\n",
       "      <td>0.97</td>\n",
       "      <td>1177.0</td>\n",
       "    </tr>\n",
       "    <tr>\n",
       "      <th>3</th>\n",
       "      <td>N</td>\n",
       "      <td>E</td>\n",
       "      <td>1178.0</td>\n",
       "      <td>-3.0</td>\n",
       "      <td>0.92</td>\n",
       "      <td>-0.63</td>\n",
       "      <td>0.97</td>\n",
       "      <td>1178.0</td>\n",
       "    </tr>\n",
       "    <tr>\n",
       "      <th>4</th>\n",
       "      <td>I</td>\n",
       "      <td>E</td>\n",
       "      <td>1179.0</td>\n",
       "      <td>-3.0</td>\n",
       "      <td>0.92</td>\n",
       "      <td>-0.63</td>\n",
       "      <td>0.97</td>\n",
       "      <td>1179.0</td>\n",
       "    </tr>\n",
       "    <tr>\n",
       "      <th>...</th>\n",
       "      <td>...</td>\n",
       "      <td>...</td>\n",
       "      <td>...</td>\n",
       "      <td>...</td>\n",
       "      <td>...</td>\n",
       "      <td>...</td>\n",
       "      <td>...</td>\n",
       "      <td>...</td>\n",
       "    </tr>\n",
       "    <tr>\n",
       "      <th>345323</th>\n",
       "      <td>L</td>\n",
       "      <td>.</td>\n",
       "      <td>878.0</td>\n",
       "      <td>0.0</td>\n",
       "      <td>0.00</td>\n",
       "      <td>0.00</td>\n",
       "      <td>0.00</td>\n",
       "      <td>878.0</td>\n",
       "    </tr>\n",
       "    <tr>\n",
       "      <th>345324</th>\n",
       "      <td>A</td>\n",
       "      <td>.</td>\n",
       "      <td>879.0</td>\n",
       "      <td>0.0</td>\n",
       "      <td>0.00</td>\n",
       "      <td>0.00</td>\n",
       "      <td>0.00</td>\n",
       "      <td>879.0</td>\n",
       "    </tr>\n",
       "    <tr>\n",
       "      <th>345325</th>\n",
       "      <td>G</td>\n",
       "      <td>.</td>\n",
       "      <td>880.0</td>\n",
       "      <td>0.0</td>\n",
       "      <td>0.00</td>\n",
       "      <td>0.00</td>\n",
       "      <td>0.00</td>\n",
       "      <td>880.0</td>\n",
       "    </tr>\n",
       "    <tr>\n",
       "      <th>345326</th>\n",
       "      <td>T</td>\n",
       "      <td>.</td>\n",
       "      <td>881.0</td>\n",
       "      <td>0.0</td>\n",
       "      <td>0.00</td>\n",
       "      <td>0.00</td>\n",
       "      <td>0.00</td>\n",
       "      <td>881.0</td>\n",
       "    </tr>\n",
       "    <tr>\n",
       "      <th>345327</th>\n",
       "      <td>I</td>\n",
       "      <td>.</td>\n",
       "      <td>882.0</td>\n",
       "      <td>0.0</td>\n",
       "      <td>0.00</td>\n",
       "      <td>0.00</td>\n",
       "      <td>0.00</td>\n",
       "      <td>882.0</td>\n",
       "    </tr>\n",
       "  </tbody>\n",
       "</table>\n",
       "<p>345328 rows × 8 columns</p>\n",
       "</div>"
      ],
      "text/plain": [
       "       label amino  position  hoop_woods  emini  parker  levitt  Position\n",
       "0          S     E    1175.0        -3.0   0.92   -0.63    0.97    1175.0\n",
       "1          V     E    1176.0        -3.0   0.92   -0.63    0.97    1176.0\n",
       "2          V     E    1177.0        -3.0   0.92   -0.63    0.97    1177.0\n",
       "3          N     E    1178.0        -3.0   0.92   -0.63    0.97    1178.0\n",
       "4          I     E    1179.0        -3.0   0.92   -0.63    0.97    1179.0\n",
       "...      ...   ...       ...         ...    ...     ...     ...       ...\n",
       "345323     L     .     878.0         0.0   0.00    0.00    0.00     878.0\n",
       "345324     A     .     879.0         0.0   0.00    0.00    0.00     879.0\n",
       "345325     G     .     880.0         0.0   0.00    0.00    0.00     880.0\n",
       "345326     T     .     881.0         0.0   0.00    0.00    0.00     881.0\n",
       "345327     I     .     882.0         0.0   0.00    0.00    0.00     882.0\n",
       "\n",
       "[345328 rows x 8 columns]"
      ]
     },
     "execution_count": 96,
     "metadata": {},
     "output_type": "execute_result"
    }
   ],
   "source": [
    "df2_merge"
   ]
  },
  {
   "cell_type": "code",
   "execution_count": 101,
   "metadata": {},
   "outputs": [],
   "source": [
    "df2_merge['hoop_woods'] = [hoop_woods(df2_merge['amino'][i]) for i in range(len(df2_merge))]\n",
    "df2_merge['emini'] = [emini(df2_merge['amino'][i]) for i in range(len(df2_merge))]\n",
    "df2_merge['parker'] = [parker(df2_merge['amino'][i]) for i in range(len(df2_merge))]\n",
    "df2_merge['levitt'] = [levitt(df2_merge['amino'][i]) for i in range(len(df2_merge))]"
   ]
  },
  {
   "cell_type": "code",
   "execution_count": 102,
   "metadata": {},
   "outputs": [
    {
     "data": {
      "text/html": [
       "<div>\n",
       "<style scoped>\n",
       "    .dataframe tbody tr th:only-of-type {\n",
       "        vertical-align: middle;\n",
       "    }\n",
       "\n",
       "    .dataframe tbody tr th {\n",
       "        vertical-align: top;\n",
       "    }\n",
       "\n",
       "    .dataframe thead th {\n",
       "        text-align: right;\n",
       "    }\n",
       "</style>\n",
       "<table border=\"1\" class=\"dataframe\">\n",
       "  <thead>\n",
       "    <tr style=\"text-align: right;\">\n",
       "      <th></th>\n",
       "      <th>amino</th>\n",
       "      <th>label</th>\n",
       "      <th>Position</th>\n",
       "      <th>hoop_woods</th>\n",
       "      <th>emini</th>\n",
       "      <th>parker</th>\n",
       "      <th>levitt</th>\n",
       "    </tr>\n",
       "  </thead>\n",
       "  <tbody>\n",
       "    <tr>\n",
       "      <th>0</th>\n",
       "      <td>S</td>\n",
       "      <td>E</td>\n",
       "      <td>1175.0</td>\n",
       "      <td>-2.0</td>\n",
       "      <td>0.92</td>\n",
       "      <td>-0.25</td>\n",
       "      <td>0.79</td>\n",
       "    </tr>\n",
       "    <tr>\n",
       "      <th>1</th>\n",
       "      <td>V</td>\n",
       "      <td>E</td>\n",
       "      <td>1176.0</td>\n",
       "      <td>1.0</td>\n",
       "      <td>1.02</td>\n",
       "      <td>1.24</td>\n",
       "      <td>1.30</td>\n",
       "    </tr>\n",
       "    <tr>\n",
       "      <th>2</th>\n",
       "      <td>V</td>\n",
       "      <td>E</td>\n",
       "      <td>1177.0</td>\n",
       "      <td>1.0</td>\n",
       "      <td>1.02</td>\n",
       "      <td>1.24</td>\n",
       "      <td>1.30</td>\n",
       "    </tr>\n",
       "    <tr>\n",
       "      <th>3</th>\n",
       "      <td>N</td>\n",
       "      <td>E</td>\n",
       "      <td>1178.0</td>\n",
       "      <td>-3.0</td>\n",
       "      <td>0.92</td>\n",
       "      <td>-0.12</td>\n",
       "      <td>0.68</td>\n",
       "    </tr>\n",
       "    <tr>\n",
       "      <th>4</th>\n",
       "      <td>I</td>\n",
       "      <td>E</td>\n",
       "      <td>1179.0</td>\n",
       "      <td>1.0</td>\n",
       "      <td>1.02</td>\n",
       "      <td>1.61</td>\n",
       "      <td>1.18</td>\n",
       "    </tr>\n",
       "    <tr>\n",
       "      <th>...</th>\n",
       "      <td>...</td>\n",
       "      <td>...</td>\n",
       "      <td>...</td>\n",
       "      <td>...</td>\n",
       "      <td>...</td>\n",
       "      <td>...</td>\n",
       "      <td>...</td>\n",
       "    </tr>\n",
       "    <tr>\n",
       "      <th>345323</th>\n",
       "      <td>L</td>\n",
       "      <td>.</td>\n",
       "      <td>878.0</td>\n",
       "      <td>1.0</td>\n",
       "      <td>1.02</td>\n",
       "      <td>1.30</td>\n",
       "      <td>1.21</td>\n",
       "    </tr>\n",
       "    <tr>\n",
       "      <th>345324</th>\n",
       "      <td>A</td>\n",
       "      <td>.</td>\n",
       "      <td>879.0</td>\n",
       "      <td>1.0</td>\n",
       "      <td>0.92</td>\n",
       "      <td>1.53</td>\n",
       "      <td>1.23</td>\n",
       "    </tr>\n",
       "    <tr>\n",
       "      <th>345325</th>\n",
       "      <td>G</td>\n",
       "      <td>.</td>\n",
       "      <td>880.0</td>\n",
       "      <td>0.0</td>\n",
       "      <td>0.74</td>\n",
       "      <td>0.74</td>\n",
       "      <td>1.15</td>\n",
       "    </tr>\n",
       "    <tr>\n",
       "      <th>345326</th>\n",
       "      <td>T</td>\n",
       "      <td>.</td>\n",
       "      <td>881.0</td>\n",
       "      <td>-2.0</td>\n",
       "      <td>0.92</td>\n",
       "      <td>-0.18</td>\n",
       "      <td>0.82</td>\n",
       "    </tr>\n",
       "    <tr>\n",
       "      <th>345327</th>\n",
       "      <td>I</td>\n",
       "      <td>.</td>\n",
       "      <td>882.0</td>\n",
       "      <td>1.0</td>\n",
       "      <td>1.02</td>\n",
       "      <td>1.61</td>\n",
       "      <td>1.18</td>\n",
       "    </tr>\n",
       "  </tbody>\n",
       "</table>\n",
       "<p>345328 rows × 7 columns</p>\n",
       "</div>"
      ],
      "text/plain": [
       "       amino label  Position  hoop_woods  emini  parker  levitt\n",
       "0          S     E    1175.0        -2.0   0.92   -0.25    0.79\n",
       "1          V     E    1176.0         1.0   1.02    1.24    1.30\n",
       "2          V     E    1177.0         1.0   1.02    1.24    1.30\n",
       "3          N     E    1178.0        -3.0   0.92   -0.12    0.68\n",
       "4          I     E    1179.0         1.0   1.02    1.61    1.18\n",
       "...      ...   ...       ...         ...    ...     ...     ...\n",
       "345323     L     .     878.0         1.0   1.02    1.30    1.21\n",
       "345324     A     .     879.0         1.0   0.92    1.53    1.23\n",
       "345325     G     .     880.0         0.0   0.74    0.74    1.15\n",
       "345326     T     .     881.0        -2.0   0.92   -0.18    0.82\n",
       "345327     I     .     882.0         1.0   1.02    1.61    1.18\n",
       "\n",
       "[345328 rows x 7 columns]"
      ]
     },
     "execution_count": 102,
     "metadata": {},
     "output_type": "execute_result"
    }
   ],
   "source": [
    "df2_merge"
   ]
  },
  {
   "cell_type": "code",
   "execution_count": 103,
   "metadata": {},
   "outputs": [],
   "source": [
    "df2_merge.to_csv('dataset_type_2.csv',index=False)"
   ]
  }
 ],
 "metadata": {
  "kernelspec": {
   "display_name": "Python 3",
   "language": "python",
   "name": "python3"
  },
  "language_info": {
   "codemirror_mode": {
    "name": "ipython",
    "version": 3
   },
   "file_extension": ".py",
   "mimetype": "text/x-python",
   "name": "python",
   "nbconvert_exporter": "python",
   "pygments_lexer": "ipython3",
   "version": "3.9.2"
  },
  "orig_nbformat": 4
 },
 "nbformat": 4,
 "nbformat_minor": 2
}
